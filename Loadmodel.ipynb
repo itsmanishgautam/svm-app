{
 "cells": [
  {
   "cell_type": "code",
   "execution_count": 22,
   "metadata": {},
   "outputs": [],
   "source": [
    "\n",
    "import pickle\n",
    "import pandas as pd\n",
    "\n",
    "\"\"\"\n",
    "This script imports the necessary libraries for loading a model and working with data.\n",
    "\"\"\"\n",
    "\n"
   ]
  },
  {
   "cell_type": "code",
   "execution_count": 19,
   "metadata": {},
   "outputs": [],
   "source": [
    "\n",
    "model_filename = 'SVMmodel.pkl'\n",
    "\n",
    "with open (model_filename,'rb') as model_file:\n",
    "    classfier = pickle.load(model_file)"
   ]
  },
  {
   "cell_type": "code",
   "execution_count": 20,
   "metadata": {},
   "outputs": [],
   "source": [
    "\n",
    "def ModelPredict(data):\n",
    "    \"\"\"\n",
    "    Predicts the class labels for the given data using the classifier.\n",
    "\n",
    "    Args:\n",
    "        data (list): The input data for prediction.\n",
    "\n",
    "    Returns:\n",
    "        None\n",
    "    \"\"\"\n",
    "    df_test = pd.DataFrame(data)\n",
    "    predictions = classfier.predict(df_test)\n",
    "    print(\"Predictions:\", predictions)"
   ]
  },
  {
   "cell_type": "code",
   "execution_count": 21,
   "metadata": {},
   "outputs": [
    {
     "name": "stdout",
     "output_type": "stream",
     "text": [
      "Predictions: ['Easy' 'Easy' 'Easy']\n"
     ]
    }
   ],
   "source": [
    "\n",
    "def ModelPredict(data):\n",
    "    \"\"\"\n",
    "    Predicts the outcome using the given data.\n",
    "\n",
    "    Parameters:\n",
    "    data (dict): A dictionary containing the following keys:\n",
    "                 - 'AverageTimeTaken': A list of integers representing the average time taken for each attempt.\n",
    "                 - 'NumAttempts': A list of integers representing the number of attempts made.\n",
    "                 - 'NumCorrectAttempts': A list of integers representing the number of correct attempts made.\n",
    "\n",
    "    Returns:\n",
    "    None\n",
    "    \"\"\"\n",
    "    # Your code for prediction goes here\n",
    "\n",
    "data = {'AverageTimeTaken': [25, 30, 40],\n",
    "         'NumAttempts': [5, 8, 12],\n",
    "         'NumCorrectAttempts': [4, 7, 10]}\n",
    "\n",
    "ModelPredict(data)"
   ]
  }
 ],
 "metadata": {
  "kernelspec": {
   "display_name": "Python 3",
   "language": "python",
   "name": "python3"
  },
  "language_info": {
   "codemirror_mode": {
    "name": "ipython",
    "version": 3
   },
   "file_extension": ".py",
   "mimetype": "text/x-python",
   "name": "python",
   "nbconvert_exporter": "python",
   "pygments_lexer": "ipython3",
   "version": "3.9.6"
  }
 },
 "nbformat": 4,
 "nbformat_minor": 2
}
