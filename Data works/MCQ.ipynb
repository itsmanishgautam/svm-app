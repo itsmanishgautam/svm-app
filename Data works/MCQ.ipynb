{
 "cells": [
  {
   "cell_type": "code",
   "execution_count": 50,
   "metadata": {},
   "outputs": [],
   "source": [
    "import numpy as np\n",
    "import matplotlib.pyplot as plt \n",
    "import pandas as pd"
   ]
  },
  {
   "cell_type": "code",
   "execution_count": 51,
   "metadata": {},
   "outputs": [
    {
     "data": {
      "text/plain": [
       "\"\\nReads a CSV file containing a dataset of multiple-choice questions and their corresponding classifications.\\nThe file path of the CSV file is '/Users/celeritas/Documents/Codes/SVM/MCQ Project/question_classification_dataset.csv'.\\nDisplays the first 10 rows of the dataset.\\n\""
      ]
     },
     "execution_count": 51,
     "metadata": {},
     "output_type": "execute_result"
    }
   ],
   "source": [
    "df = pd.read_csv('/Users/celeritas/Documents/Codes/SVM/MCQ Project/question_classification_dataset.csv')\n",
    "df.head(10)\n",
    "\"\"\"\n",
    "Reads a CSV file containing a dataset of multiple-choice questions and their corresponding classifications.\n",
    "The file path of the CSV file is '/Users/celeritas/Documents/Codes/SVM/MCQ Project/question_classification_dataset.csv'.\n",
    "Displays the first 10 rows of the dataset.\n",
    "\"\"\"\n"
   ]
  },
  {
   "cell_type": "code",
   "execution_count": 52,
   "metadata": {},
   "outputs": [
    {
     "name": "stdout",
     "output_type": "stream",
     "text": [
      "shape:  (400, 4)\n",
      "size : 1600\n",
      "count : AverageTimeTaken      400\n",
      "NumAttempts           400\n",
      "NumCorrectAttempts    400\n",
      "Label                 400\n",
      "dtype: int64\n"
     ]
    }
   ],
   "source": [
    "\n",
    "def print_dataframe_info(df):\n",
    "    \"\"\"\n",
    "    Prints the shape, size, and count of a given DataFrame.\n",
    "\n",
    "    Parameters:\n",
    "    df (pandas.DataFrame): The DataFrame to be analyzed.\n",
    "\n",
    "    Returns:\n",
    "    None\n",
    "    \"\"\"\n",
    "    print(\"shape: \", df.shape)\n",
    "    print(\"size :\", df.size)\n",
    "    print(\"count :\", df.count())\n",
    "\n",
    "# Call the function with your DataFrame\n",
    "print_dataframe_info(df)\n"
   ]
  },
  {
   "cell_type": "code",
   "execution_count": 53,
   "metadata": {},
   "outputs": [],
   "source": [
    "def get_label_counts(df):\n",
    "    \"\"\"\n",
    "    Returns the count of each unique value in the 'Label' column of the given DataFrame.\n",
    "\n",
    "    Parameters:\n",
    "    df (pandas.DataFrame): The DataFrame containing the 'Label' column.\n",
    "\n",
    "    Returns:\n",
    "    pandas.Series: A Series object with the count of each unique value in the 'Label' column.\n",
    "    \"\"\"\n",
    "    return df['Label'].value_counts()\n"
   ]
  },
  {
   "cell_type": "markdown",
   "metadata": {},
   "source": [
    "Distribution of classes"
   ]
  },
  {
   "cell_type": "code",
   "execution_count": 54,
   "metadata": {},
   "outputs": [],
   "source": [
    "def filter_data(df):\n",
    "    \"\"\"\n",
    "    Filters the given DataFrame based on the 'Label' column and returns two subsets: 'easy_df' and 'hard_df'.\n",
    "\n",
    "    Parameters:\n",
    "    df (pandas.DataFrame): The input DataFrame.\n",
    "\n",
    "    Returns:\n",
    "    easy_df (pandas.DataFrame): Subset of the input DataFrame containing rows with 'Label' equal to 'Easy'.\n",
    "    hard_df (pandas.DataFrame): Subset of the input DataFrame containing rows with 'Label' equal to 'Hard'.\n",
    "    \"\"\"\n",
    "    easy_df = df[df['Label'] == 'Easy'][:100]\n",
    "    hard_df = df[df['Label'] == 'Hard'][:100]\n",
    "    return easy_df, hard_df\n"
   ]
  },
  {
   "cell_type": "code",
   "execution_count": 55,
   "metadata": {},
   "outputs": [
    {
     "data": {
      "text/html": [
       "<div>\n",
       "<style scoped>\n",
       "    .dataframe tbody tr th:only-of-type {\n",
       "        vertical-align: middle;\n",
       "    }\n",
       "\n",
       "    .dataframe tbody tr th {\n",
       "        vertical-align: top;\n",
       "    }\n",
       "\n",
       "    .dataframe thead th {\n",
       "        text-align: right;\n",
       "    }\n",
       "</style>\n",
       "<table border=\"1\" class=\"dataframe\">\n",
       "  <thead>\n",
       "    <tr style=\"text-align: right;\">\n",
       "      <th></th>\n",
       "      <th>AverageTimeTaken</th>\n",
       "      <th>NumAttempts</th>\n",
       "      <th>NumCorrectAttempts</th>\n",
       "      <th>Label</th>\n",
       "    </tr>\n",
       "  </thead>\n",
       "  <tbody>\n",
       "    <tr>\n",
       "      <th>0</th>\n",
       "      <td>24.607232</td>\n",
       "      <td>2</td>\n",
       "      <td>2</td>\n",
       "      <td>Easy</td>\n",
       "    </tr>\n",
       "    <tr>\n",
       "      <th>1</th>\n",
       "      <td>137.674496</td>\n",
       "      <td>5</td>\n",
       "      <td>1</td>\n",
       "      <td>Hard</td>\n",
       "    </tr>\n",
       "    <tr>\n",
       "      <th>2</th>\n",
       "      <td>190.370314</td>\n",
       "      <td>7</td>\n",
       "      <td>1</td>\n",
       "      <td>Hard</td>\n",
       "    </tr>\n",
       "    <tr>\n",
       "      <th>3</th>\n",
       "      <td>399.026600</td>\n",
       "      <td>8</td>\n",
       "      <td>1</td>\n",
       "      <td>Hard</td>\n",
       "    </tr>\n",
       "    <tr>\n",
       "      <th>4</th>\n",
       "      <td>430.487214</td>\n",
       "      <td>7</td>\n",
       "      <td>1</td>\n",
       "      <td>Hard</td>\n",
       "    </tr>\n",
       "  </tbody>\n",
       "</table>\n",
       "</div>"
      ],
      "text/plain": [
       "   AverageTimeTaken  NumAttempts  NumCorrectAttempts Label\n",
       "0         24.607232            2                   2  Easy\n",
       "1        137.674496            5                   1  Hard\n",
       "2        190.370314            7                   1  Hard\n",
       "3        399.026600            8                   1  Hard\n",
       "4        430.487214            7                   1  Hard"
      ]
     },
     "execution_count": 55,
     "metadata": {},
     "output_type": "execute_result"
    }
   ],
   "source": [
    "\"\"\"\n",
    "This code snippet displays the first few rows of the DataFrame 'df'.\n",
    "\"\"\"\n",
    "df.head()\n"
   ]
  },
  {
   "cell_type": "code",
   "execution_count": 56,
   "metadata": {},
   "outputs": [],
   "source": [
    "def process_data(df):\n",
    "    \"\"\"\n",
    "    Process the data by dropping the 'Label' column from the DataFrame.\n",
    "\n",
    "    Parameters:\n",
    "    df (pandas.DataFrame): The input DataFrame.\n",
    "\n",
    "    Returns:\n",
    "    pandas.DataFrame: The processed DataFrame with the 'Label' column dropped.\n",
    "    \"\"\"\n",
    "    X = df.drop('Label', axis=1)\n",
    "    return X\n"
   ]
  },
  {
   "cell_type": "code",
   "execution_count": 57,
   "metadata": {},
   "outputs": [],
   "source": [
    "def get_label(df):\n",
    "    \"\"\"\n",
    "    Get the 'Label' column from the given DataFrame.\n",
    "\n",
    "    Parameters:\n",
    "    df (pandas.DataFrame): The DataFrame containing the 'Label' column.\n",
    "\n",
    "    Returns:\n",
    "    pandas.Series: The 'Label' column as a pandas Series.\n",
    "    \"\"\"\n",
    "    y = df['Label']\n",
    "    return y\n",
    "y = df['Label']"
   ]
  },
  {
   "cell_type": "code",
   "execution_count": 58,
   "metadata": {},
   "outputs": [
    {
     "data": {
      "text/plain": [
       "0    Easy\n",
       "1    Hard\n",
       "2    Hard\n",
       "3    Hard\n",
       "4    Hard\n",
       "Name: Label, dtype: object"
      ]
     },
     "execution_count": 58,
     "metadata": {},
     "output_type": "execute_result"
    }
   ],
   "source": [
    "\"\"\"\n",
    "This code snippet calls the `head()` function on the variable `y` to display the first few rows of the DataFrame.\n",
    "\"\"\"\n",
    "y.head()\n"
   ]
  },
  {
   "cell_type": "code",
   "execution_count": 59,
   "metadata": {},
   "outputs": [
    {
     "data": {
      "text/html": [
       "<div>\n",
       "<style scoped>\n",
       "    .dataframe tbody tr th:only-of-type {\n",
       "        vertical-align: middle;\n",
       "    }\n",
       "\n",
       "    .dataframe tbody tr th {\n",
       "        vertical-align: top;\n",
       "    }\n",
       "\n",
       "    .dataframe thead th {\n",
       "        text-align: right;\n",
       "    }\n",
       "</style>\n",
       "<table border=\"1\" class=\"dataframe\">\n",
       "  <thead>\n",
       "    <tr style=\"text-align: right;\">\n",
       "      <th></th>\n",
       "      <th>AverageTimeTaken</th>\n",
       "      <th>NumAttempts</th>\n",
       "      <th>NumCorrectAttempts</th>\n",
       "    </tr>\n",
       "  </thead>\n",
       "  <tbody>\n",
       "    <tr>\n",
       "      <th>0</th>\n",
       "      <td>24.607232</td>\n",
       "      <td>2</td>\n",
       "      <td>2</td>\n",
       "    </tr>\n",
       "    <tr>\n",
       "      <th>1</th>\n",
       "      <td>137.674496</td>\n",
       "      <td>5</td>\n",
       "      <td>1</td>\n",
       "    </tr>\n",
       "    <tr>\n",
       "      <th>2</th>\n",
       "      <td>190.370314</td>\n",
       "      <td>7</td>\n",
       "      <td>1</td>\n",
       "    </tr>\n",
       "    <tr>\n",
       "      <th>3</th>\n",
       "      <td>399.026600</td>\n",
       "      <td>8</td>\n",
       "      <td>1</td>\n",
       "    </tr>\n",
       "    <tr>\n",
       "      <th>4</th>\n",
       "      <td>430.487214</td>\n",
       "      <td>7</td>\n",
       "      <td>1</td>\n",
       "    </tr>\n",
       "  </tbody>\n",
       "</table>\n",
       "</div>"
      ],
      "text/plain": [
       "   AverageTimeTaken  NumAttempts  NumCorrectAttempts\n",
       "0         24.607232            2                   2\n",
       "1        137.674496            5                   1\n",
       "2        190.370314            7                   1\n",
       "3        399.026600            8                   1\n",
       "4        430.487214            7                   1"
      ]
     },
     "execution_count": 59,
     "metadata": {},
     "output_type": "execute_result"
    }
   ],
   "source": [
    "def my_function():\n",
    "    \"\"\"\n",
    "    This function displays the head of the DataFrame X.\n",
    "    \"\"\"\n",
    "    X.head()\n",
    "X.head()"
   ]
  },
  {
   "cell_type": "code",
   "execution_count": 60,
   "metadata": {},
   "outputs": [],
   "source": [
    "from sklearn.model_selection import train_test_split\n",
    "\n",
    "def split_data(X, y):\n",
    "    \"\"\"\n",
    "    Split the data into training and testing sets.\n",
    "\n",
    "    Parameters:\n",
    "    X (array-like): The input features.\n",
    "    y (array-like): The target variable.\n",
    "\n",
    "    Returns:\n",
    "    X_train (array-like): The training set of input features.\n",
    "    X_test (array-like): The testing set of input features.\n",
    "    y_train (array-like): The training set of target variable.\n",
    "    y_test (array-like): The testing set of target variable.\n",
    "    \"\"\"\n",
    "    X_train, X_test, y_train, y_test = train_test_split(X, y, test_size=0.2, random_state=4)\n",
    "    return X_train, X_test, y_train, y_test\n"
   ]
  },
  {
   "cell_type": "code",
   "execution_count": 61,
   "metadata": {},
   "outputs": [],
   "source": [
    "def print_shapes():\n",
    "    \"\"\"\n",
    "    Prints the shapes of X_train, X_test, y_train, and y_test.\n",
    "    \"\"\"\n",
    "    print(f'shape of X_train : {X_train.shape}' )\n",
    "    print(f'shape of X_test : {X_test.shape} ')\n",
    "    print(f'shape of y_train : {y_train.shape}' )\n",
    "    print(f'shape of y_test : {y_train.shape}' )\n"
   ]
  },
  {
   "cell_type": "code",
   "execution_count": 62,
   "metadata": {},
   "outputs": [
    {
     "data": {
      "text/plain": [
       "'\\nThis code snippet trains a Support Vector Machine (SVM) classifier using the linear kernel and predicts the labels for the test data.\\n\\nParameters:\\n- X_train: The training data features.\\n- y_train: The training data labels.\\n- X_test: The test data features.\\n\\nReturns:\\n- y_predict: The predicted labels for the test data.\\n'"
      ]
     },
     "execution_count": 62,
     "metadata": {},
     "output_type": "execute_result"
    }
   ],
   "source": [
    "from sklearn import svm\n",
    "\n",
    "classfier = svm.SVC(kernel='linear', gamma='auto',C=2)\n",
    "classfier.fit(X_train,y_train)\n",
    "y_predict = classfier.predict(X_test)\n",
    "\n",
    "\"\"\"\n",
    "This code snippet trains a Support Vector Machine (SVM) classifier using the linear kernel and predicts the labels for the test data.\n",
    "\n",
    "Parameters:\n",
    "- X_train: The training data features.\n",
    "- y_train: The training data labels.\n",
    "- X_test: The test data features.\n",
    "\n",
    "Returns:\n",
    "- y_predict: The predicted labels for the test data.\n",
    "\"\"\"\n"
   ]
  },
  {
   "cell_type": "code",
   "execution_count": 63,
   "metadata": {},
   "outputs": [
    {
     "name": "stdout",
     "output_type": "stream",
     "text": [
      "              precision    recall  f1-score   support\n",
      "\n",
      "        Easy       1.00      1.00      1.00        42\n",
      "        Hard       1.00      1.00      1.00        38\n",
      "\n",
      "    accuracy                           1.00        80\n",
      "   macro avg       1.00      1.00      1.00        80\n",
      "weighted avg       1.00      1.00      1.00        80\n",
      "\n"
     ]
    }
   ],
   "source": [
    "from sklearn.metrics import classification_report\n",
    "\n",
    "def print_classification_report(y_test, y_predict):\n",
    "    \"\"\"\n",
    "    Prints the classification report for the given predicted and true labels.\n",
    "\n",
    "    Parameters:\n",
    "    - y_test (array-like): True labels.\n",
    "    - y_predict (array-like): Predicted labels.\n",
    "\n",
    "    Returns:\n",
    "    None\n",
    "    \"\"\"\n",
    "    print(classification_report(y_test, y_predict))\n",
    "\n",
    "print_classification_report(y_test, y_predict)\n",
    "\n"
   ]
  },
  {
   "cell_type": "code",
   "execution_count": 64,
   "metadata": {},
   "outputs": [],
   "source": [
    "def ModelPredict(your_data):\n",
    "    \"\"\"\n",
    "    Predicts the class labels for the given data using the classifier.\n",
    "\n",
    "    Args:\n",
    "        your_data (dict): The input data for prediction. It should be a dictionary with the following keys:\n",
    "            - 'AverageTimeTaken': A list of integers representing the average time taken for each data point.\n",
    "            - 'NumAttempts': A list of integers representing the number of attempts for each data point.\n",
    "            - 'NumCorrectAttempts': A list of integers representing the number of correct attempts for each data point.\n",
    "\n",
    "    Returns:\n",
    "        None\n",
    "    \"\"\"\n",
    "    df_test = pd.DataFrame(your_data)\n",
    "    predictions = classfier.predict(df_test)\n",
    "    print(\"Predictions:\", predictions)\n",
    "\n"
   ]
  },
  {
   "cell_type": "code",
   "execution_count": 65,
   "metadata": {},
   "outputs": [
    {
     "name": "stdout",
     "output_type": "stream",
     "text": [
      "Predictions: ['Easy' 'Easy' 'Easy']\n"
     ]
    }
   ],
   "source": [
    "data = {'AverageTimeTaken': [25, 30, 40],\n",
    "             'NumAttempts': [5, 8, 12],\n",
    "             'NumCorrectAttempts': [4, 7, 10]}\n",
    "\n",
    "ModelPredict(data)"
   ]
  },
  {
   "cell_type": "code",
   "execution_count": 66,
   "metadata": {},
   "outputs": [
    {
     "data": {
      "text/plain": [
       "'\\nThis code saves the trained classifier object to a file using pickle.\\n\\nParameters:\\n- model_filename (str): The name of the file to save the model to.\\n\\nReturns:\\nNone\\n'"
      ]
     },
     "execution_count": 66,
     "metadata": {},
     "output_type": "execute_result"
    }
   ],
   "source": [
    " \n",
    "import pickle\n",
    "\n",
    "model_filename = 'SVMmodel.pkl'\n",
    "with open(model_filename, 'wb') as model_file:\n",
    "    pickle.dump(classfier, model_file)\n",
    "\n",
    "\"\"\"\n",
    "This code saves the trained classifier object to a file using pickle.\n",
    "\n",
    "Parameters:\n",
    "- model_filename (str): The name of the file to save the model to.\n",
    "\n",
    "Returns:\n",
    "None\n",
    "\"\"\"\n"
   ]
  },
  {
   "cell_type": "code",
   "execution_count": 67,
   "metadata": {},
   "outputs": [],
   "source": [
    "def load_model(model_filename):\n",
    "    \"\"\"\n",
    "    Load a pre-trained model from a file.\n",
    "\n",
    "    Parameters:\n",
    "    model_filename (str): The filename of the model file to load.\n",
    "\n",
    "    Returns:\n",
    "    object: The loaded model object.\n",
    "    \"\"\"\n",
    "    with open(model_filename, 'rb') as model_file:\n",
    "        loaded_model = pickle.load(model_file)\n",
    "    \n",
    "    return loaded_model\n",
    "\n",
    "# to load the existing modle.\n",
    "with open (model_filename,'rb') as model_file:\n",
    "    LoadModel = pickle.load(model_file)"
   ]
  },
  {
   "cell_type": "markdown",
   "metadata": {},
   "source": []
  }
 ],
 "metadata": {
  "kernelspec": {
   "display_name": "Python 3",
   "language": "python",
   "name": "python3"
  },
  "language_info": {
   "codemirror_mode": {
    "name": "ipython",
    "version": 3
   },
   "file_extension": ".py",
   "mimetype": "text/x-python",
   "name": "python",
   "nbconvert_exporter": "python",
   "pygments_lexer": "ipython3",
   "version": "3.9.6"
  }
 },
 "nbformat": 4,
 "nbformat_minor": 2
}
